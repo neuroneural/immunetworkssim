{
  "nbformat": 4,
  "nbformat_minor": 0,
  "metadata": {
    "colab": {
      "provenance": [],
      "gpuType": "T4"
    },
    "kernelspec": {
      "name": "python3",
      "display_name": "Python 3"
    },
    "language_info": {
      "name": "python"
    },
    "accelerator": "GPU"
  },
  "cells": [
    {
      "cell_type": "code",
      "execution_count": null,
      "metadata": {
        "id": "-av_YLEbZb1X"
      },
      "outputs": [],
      "source": [
        "!git clone https://github.com/neuroneural/immunetworkssim.git\n",
        "import os\n",
        "from google.colab.output import eval_js\n",
        "os.chdir('/content/immunetworkssim')\n",
        "print('Open URL: ',eval_js('google.colab.kernel.proxyPort(5000)'))\n",
        "!python main.py"
      ]
    }
  ]
}